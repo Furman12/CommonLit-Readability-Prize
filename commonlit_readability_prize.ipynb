{
 "cells": [
  {
   "metadata": {},
   "cell_type": "markdown",
   "source": [
    "# CommonLit Readability Score Prediction\n",
    "\n",
    "This notebook presents a machine learning approach to predict the readability of literary excerpts using the CommonLit Readability Prize dataset with RoBERTa transformer model from Hugging Face's Transformers library in a PyTorch framework. The goal is to determine how complex or easy to read each excerpt is based on its text content.\n"
   ],
   "id": "859c0586ab2e18d8"
  },
  {
   "metadata": {},
   "cell_type": "markdown",
   "source": "## Import Necessary Libraries",
   "id": "9f180d3c1a9a5ad5"
  },
  {
   "metadata": {
    "ExecuteTime": {
     "end_time": "2024-06-24T18:08:25.387464Z",
     "start_time": "2024-06-24T18:08:25.381271Z"
    }
   },
   "cell_type": "code",
   "source": [
    "import torch\n",
    "import torch.nn as nn\n",
    "from torch.optim import AdamW\n",
    "from transformers import RobertaModel, RobertaTokenizer\n",
    "from torch.utils.data import Dataset, DataLoader\n",
    "import pandas as pd\n",
    "from sklearn.model_selection import train_test_split\n",
    "from sklearn.metrics import mean_squared_error\n",
    "from math import sqrt"
   ],
   "id": "f25344c3505b5e",
   "outputs": [],
   "execution_count": 15
  },
  {
   "metadata": {},
   "cell_type": "markdown",
   "source": "## Load and Prepare Data",
   "id": "2a0fdcc2dbf9c729"
  },
  {
   "cell_type": "code",
   "id": "initial_id",
   "metadata": {
    "collapsed": true,
    "ExecuteTime": {
     "end_time": "2024-06-24T18:08:25.989909Z",
     "start_time": "2024-06-24T18:08:25.947247Z"
    }
   },
   "source": [
    "train_df = pd.read_csv('commonlitreadabilityprize/train.csv')\n",
    "\n",
    "train_texts, val_texts, train_targets, val_targets = train_test_split(\n",
    "    train_df['excerpt'], train_df['target'], test_size=0.1, random_state=42\n",
    ")\n",
    "\n",
    "train_texts.reset_index(drop=True, inplace=True)\n",
    "val_texts.reset_index(drop=True, inplace=True)\n",
    "train_targets.reset_index(drop=True, inplace=True)\n",
    "val_targets.reset_index(drop=True, inplace=True)"
   ],
   "outputs": [],
   "execution_count": 16
  },
  {
   "metadata": {},
   "cell_type": "markdown",
   "source": [
    "## Dataset Preparation\n",
    "\n",
    "Define a PyTorch `Dataset` class, `CommonLitDataset`, which helps in processing the text data for model training by tokenizing and encoding the excerpts.\n"
   ],
   "id": "727f5f0efb6d3fcf"
  },
  {
   "metadata": {
    "ExecuteTime": {
     "end_time": "2024-06-24T18:08:26.503766Z",
     "start_time": "2024-06-24T18:08:26.500349Z"
    }
   },
   "cell_type": "code",
   "source": [
    "class CommonLitDataset(Dataset):\n",
    "    def __init__(self, excerpts, targets, tokenizer, max_len=256):\n",
    "        self.excerpts = excerpts\n",
    "        self.targets = targets\n",
    "        self.tokenizer = tokenizer\n",
    "        self.max_len = max_len\n",
    "\n",
    "    def __len__(self):\n",
    "        return len(self.excerpts)\n",
    "\n",
    "    def __getitem__(self, idx):\n",
    "        excerpt = str(self.excerpts[idx])\n",
    "        inputs = self.tokenizer.encode_plus(\n",
    "            excerpt, add_special_tokens=True, max_length=self.max_len,\n",
    "            padding='max_length', truncation=True, return_tensors='pt'\n",
    "        )\n",
    "        input_ids = inputs['input_ids'].squeeze()\n",
    "        attention_mask = inputs['attention_mask'].squeeze()\n",
    "        if self.targets is not None:\n",
    "            target = torch.tensor(self.targets[idx], dtype=torch.float32)\n",
    "            return input_ids, attention_mask, target\n",
    "        return input_ids, attention_mask"
   ],
   "id": "fe375a6aad01328f",
   "outputs": [],
   "execution_count": 17
  },
  {
   "metadata": {
    "ExecuteTime": {
     "end_time": "2024-06-24T18:08:27.565682Z",
     "start_time": "2024-06-24T18:08:27.209136Z"
    }
   },
   "cell_type": "code",
   "source": [
    "tokenizer = RobertaTokenizer.from_pretrained('roberta-base')\n",
    "\n",
    "train_dataset = CommonLitDataset(train_texts, train_targets, tokenizer)\n",
    "val_dataset = CommonLitDataset(val_texts, val_targets, tokenizer)\n",
    "\n",
    "train_loader = DataLoader(train_dataset, batch_size=8, shuffle=True)\n",
    "val_loader = DataLoader(val_dataset, batch_size=8, shuffle=False)"
   ],
   "id": "37e91cbc7e19958c",
   "outputs": [],
   "execution_count": 18
  },
  {
   "metadata": {
    "ExecuteTime": {
     "end_time": "2024-06-24T18:08:30.167016Z",
     "start_time": "2024-06-24T18:08:30.162413Z"
    }
   },
   "cell_type": "code",
   "source": [
    "class CommonLitModel(nn.Module):\n",
    "    def __init__(self):\n",
    "        super(CommonLitModel, self).__init__()\n",
    "        self.roberta = RobertaModel.from_pretrained('roberta-base')\n",
    "        self.drop = nn.Dropout(p=0.3)\n",
    "        self.out = nn.Linear(self.roberta.config.hidden_size, 1)\n",
    "\n",
    "    def forward(self, input_ids, attention_mask):\n",
    "        output = self.roberta(input_ids=input_ids, attention_mask=attention_mask)\n",
    "        output = self.drop(output.pooler_output)\n",
    "        return self.out(output)"
   ],
   "id": "f89911cefb47f990",
   "outputs": [],
   "execution_count": 19
  },
  {
   "metadata": {
    "ExecuteTime": {
     "end_time": "2024-06-24T18:08:31.750907Z",
     "start_time": "2024-06-24T18:08:30.827199Z"
    }
   },
   "cell_type": "code",
   "source": [
    "device = torch.device(\"cpu\")\n",
    "model = CommonLitModel()\n",
    "model.to(device)"
   ],
   "id": "c1aa7f20a1524d45",
   "outputs": [
    {
     "name": "stderr",
     "output_type": "stream",
     "text": [
      "Some weights of RobertaModel were not initialized from the model checkpoint at roberta-base and are newly initialized: ['roberta.pooler.dense.bias', 'roberta.pooler.dense.weight']\n",
      "You should probably TRAIN this model on a down-stream task to be able to use it for predictions and inference.\n"
     ]
    },
    {
     "data": {
      "text/plain": [
       "CommonLitModel(\n",
       "  (roberta): RobertaModel(\n",
       "    (embeddings): RobertaEmbeddings(\n",
       "      (word_embeddings): Embedding(50265, 768, padding_idx=1)\n",
       "      (position_embeddings): Embedding(514, 768, padding_idx=1)\n",
       "      (token_type_embeddings): Embedding(1, 768)\n",
       "      (LayerNorm): LayerNorm((768,), eps=1e-05, elementwise_affine=True)\n",
       "      (dropout): Dropout(p=0.1, inplace=False)\n",
       "    )\n",
       "    (encoder): RobertaEncoder(\n",
       "      (layer): ModuleList(\n",
       "        (0-11): 12 x RobertaLayer(\n",
       "          (attention): RobertaAttention(\n",
       "            (self): RobertaSelfAttention(\n",
       "              (query): Linear(in_features=768, out_features=768, bias=True)\n",
       "              (key): Linear(in_features=768, out_features=768, bias=True)\n",
       "              (value): Linear(in_features=768, out_features=768, bias=True)\n",
       "              (dropout): Dropout(p=0.1, inplace=False)\n",
       "            )\n",
       "            (output): RobertaSelfOutput(\n",
       "              (dense): Linear(in_features=768, out_features=768, bias=True)\n",
       "              (LayerNorm): LayerNorm((768,), eps=1e-05, elementwise_affine=True)\n",
       "              (dropout): Dropout(p=0.1, inplace=False)\n",
       "            )\n",
       "          )\n",
       "          (intermediate): RobertaIntermediate(\n",
       "            (dense): Linear(in_features=768, out_features=3072, bias=True)\n",
       "            (intermediate_act_fn): GELUActivation()\n",
       "          )\n",
       "          (output): RobertaOutput(\n",
       "            (dense): Linear(in_features=3072, out_features=768, bias=True)\n",
       "            (LayerNorm): LayerNorm((768,), eps=1e-05, elementwise_affine=True)\n",
       "            (dropout): Dropout(p=0.1, inplace=False)\n",
       "          )\n",
       "        )\n",
       "      )\n",
       "    )\n",
       "    (pooler): RobertaPooler(\n",
       "      (dense): Linear(in_features=768, out_features=768, bias=True)\n",
       "      (activation): Tanh()\n",
       "    )\n",
       "  )\n",
       "  (drop): Dropout(p=0.3, inplace=False)\n",
       "  (out): Linear(in_features=768, out_features=1, bias=True)\n",
       ")"
      ]
     },
     "execution_count": 20,
     "metadata": {},
     "output_type": "execute_result"
    }
   ],
   "execution_count": 20
  },
  {
   "metadata": {},
   "cell_type": "markdown",
   "source": [
    "## Training and Evaluation Functions\n",
    "\n",
    "Define the `train` and `evaluate` functions which will be used to train the model on the training data and evaluate it on the validation data, respectively."
   ],
   "id": "e3bb9e5496759e43"
  },
  {
   "metadata": {
    "ExecuteTime": {
     "end_time": "2024-06-23T20:31:50.920593Z",
     "start_time": "2024-06-23T20:31:50.914552Z"
    }
   },
   "cell_type": "code",
   "source": [
    "def train(model, data_loader, optimizer, device):\n",
    "    model.train()\n",
    "    total_loss = 0\n",
    "    for input_ids, attention_mask, targets in data_loader:\n",
    "        input_ids, attention_mask, targets = input_ids.to(device), attention_mask.to(device), targets.to(device)\n",
    "\n",
    "        optimizer.zero_grad()\n",
    "        outputs = model(input_ids, attention_mask).squeeze()\n",
    "        loss = nn.MSELoss()(outputs, targets)\n",
    "        loss.backward()\n",
    "        optimizer.step()\n",
    "\n",
    "        total_loss += loss.item()\n",
    "    return total_loss / len(data_loader)\n",
    "\n",
    "def evaluate(model, data_loader, device):\n",
    "    model.eval()\n",
    "    total_loss = 0\n",
    "    predictions = []\n",
    "    actuals = []\n",
    "    with torch.no_grad():\n",
    "        for input_ids, attention_mask, targets in data_loader:\n",
    "            input_ids, attention_mask, targets = input_ids.to(device), attention_mask.to(device), targets.to(device)\n",
    "            outputs = model(input_ids, attention_mask).squeeze()\n",
    "            loss = nn.MSELoss()(outputs, targets)\n",
    "            total_loss += loss.item()\n",
    "            predictions.extend(outputs.cpu().numpy())\n",
    "            actuals.extend(targets.cpu().numpy())\n",
    "    rmse = sqrt(mean_squared_error(actuals, predictions))\n",
    "    return total_loss / len(data_loader), rmse"
   ],
   "id": "15fb482a3db6688f",
   "outputs": [],
   "execution_count": 14
  },
  {
   "metadata": {
    "ExecuteTime": {
     "end_time": "2024-06-23T19:19:21.162437Z",
     "start_time": "2024-06-23T18:51:02.351040Z"
    }
   },
   "cell_type": "code",
   "source": [
    "optimizer = AdamW(model.parameters(), lr=5e-5)\n",
    "\n",
    "num_epochs = 3\n",
    "for epoch in range(num_epochs):\n",
    "    train_loss = train(model, train_loader, optimizer, device)\n",
    "    val_loss, val_rmse = evaluate(model, val_loader, device)\n",
    "    print(f\"Epoch {epoch+1}, Train Loss: {train_loss:.4f}, Validation RMSE: {val_rmse:.4f}\")"
   ],
   "id": "94f49dbd8d9de523",
   "outputs": [
    {
     "name": "stdout",
     "output_type": "stream",
     "text": [
      "Epoch 1, Train Loss: 0.6027, Validation RMSE: 0.5906\n",
      "Epoch 2, Train Loss: 0.3080, Validation RMSE: 0.5800\n",
      "Epoch 3, Train Loss: 0.2097, Validation RMSE: 0.6336\n"
     ]
    }
   ],
   "execution_count": 7
  },
  {
   "metadata": {},
   "cell_type": "markdown",
   "source": [
    "## Generate Predictions for Test Data\n",
    "\n",
    "Load the test data, use the trained model to predict readability scores, and generate a submission file as per the competition's format."
   ],
   "id": "e6b0d9329be3ade"
  },
  {
   "metadata": {
    "ExecuteTime": {
     "end_time": "2024-06-23T20:12:36.888058Z",
     "start_time": "2024-06-23T20:12:36.422366Z"
    }
   },
   "cell_type": "code",
   "source": [
    "test_df = pd.read_csv('commonlitreadabilityprize/test.csv')\n",
    "\n",
    "test_dataset = CommonLitDataset(test_df['excerpt'], None, tokenizer)\n",
    "test_loader = DataLoader(test_dataset, batch_size=8, shuffle=False)\n",
    "\n",
    "def predict(model, data_loader, device):\n",
    "    model.eval()\n",
    "    predictions = []\n",
    "    with torch.no_grad():\n",
    "        for input_ids, attention_mask in data_loader:\n",
    "            input_ids, attention_mask = input_ids.to(device), attention_mask.to(device)\n",
    "            outputs = model(input_ids, attention_mask).squeeze()\n",
    "            predictions.extend(outputs.cpu().numpy())\n",
    "    return predictions\n",
    "\n",
    "test_predictions = predict(model, test_loader, device)"
   ],
   "id": "ddd45256f2a2c2d9",
   "outputs": [],
   "execution_count": 9
  },
  {
   "metadata": {
    "ExecuteTime": {
     "end_time": "2024-06-23T20:12:42.259867Z",
     "start_time": "2024-06-23T20:12:42.251692Z"
    }
   },
   "cell_type": "code",
   "source": [
    "sample_submission = pd.read_csv('commonlitreadabilityprize/sample_submission.csv')\n",
    "\n",
    "sample_submission['target'] = test_predictions\n",
    "\n",
    "sample_submission.to_csv(\"submission.csv\", index=False)"
   ],
   "id": "2a4edb9266a679d0",
   "outputs": [],
   "execution_count": 11
  }
 ],
 "metadata": {
  "kernelspec": {
   "display_name": "Python 3",
   "language": "python",
   "name": "python3"
  },
  "language_info": {
   "codemirror_mode": {
    "name": "ipython",
    "version": 2
   },
   "file_extension": ".py",
   "mimetype": "text/x-python",
   "name": "python",
   "nbconvert_exporter": "python",
   "pygments_lexer": "ipython2",
   "version": "2.7.6"
  }
 },
 "nbformat": 4,
 "nbformat_minor": 5
}
